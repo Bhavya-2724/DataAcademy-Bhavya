{
 "metadata": {
  "language_info": {
   "codemirror_mode": {
    "name": "ipython",
    "version": 3
   },
   "file_extension": ".py",
   "mimetype": "text/x-python",
   "name": "python",
   "nbconvert_exporter": "python",
   "pygments_lexer": "ipython3",
   "version": "3.9.3"
  },
  "orig_nbformat": 2,
  "kernelspec": {
   "name": "python393jvsc74a57bd064482fec78740758c67562c42342844bcae07472d0cd1b2e9fcc4140c8269ce3",
   "display_name": "Python 3.9.3 64-bit"
  },
  "metadata": {
   "interpreter": {
    "hash": "64482fec78740758c67562c42342844bcae07472d0cd1b2e9fcc4140c8269ce3"
   }
  }
 },
 "nbformat": 4,
 "nbformat_minor": 2,
 "cells": [
  {
   "cell_type": "code",
   "execution_count": 1,
   "metadata": {},
   "outputs": [
    {
     "output_type": "stream",
     "name": "stdout",
     "text": [
      "1 * 3 = 3\n2 * 3 = 6\n3 * 3 = 9\n"
     ]
    }
   ],
   "source": [
    "x=int(input(\"Enter a number to get multiplication table : \"))\n",
    "if(x>0):\n",
    "\n",
    " n=int(input(\"Till which number you like to print : \"))\n",
    " i=1\n",
    " while i <= n:\n",
    "  s = i * x\n",
    "  print(i, \"*\", x,\"=\" ,s)\n",
    "  i += 1\n",
    "else:\n",
    "    print(\"Not valid input\") "
   ]
  },
  {
   "cell_type": "code",
   "execution_count": null,
   "metadata": {},
   "outputs": [],
   "source": []
  }
 ]
}