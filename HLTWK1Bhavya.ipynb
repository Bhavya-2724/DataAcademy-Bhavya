{
 "metadata": {
  "language_info": {
   "codemirror_mode": {
    "name": "ipython",
    "version": 3
   },
   "file_extension": ".py",
   "mimetype": "text/x-python",
   "name": "python",
   "nbconvert_exporter": "python",
   "pygments_lexer": "ipython3",
   "version": "3.9.3"
  },
  "orig_nbformat": 2,
  "kernelspec": {
   "name": "python393jvsc74a57bd064482fec78740758c67562c42342844bcae07472d0cd1b2e9fcc4140c8269ce3",
   "display_name": "Python 3.9.3 64-bit"
  },
  "metadata": {
   "interpreter": {
    "hash": "64482fec78740758c67562c42342844bcae07472d0cd1b2e9fcc4140c8269ce3"
   }
  }
 },
 "nbformat": 4,
 "nbformat_minor": 2,
 "cells": [
  {
   "cell_type": "code",
   "execution_count": 18,
   "metadata": {},
   "outputs": [
    {
     "output_type": "stream",
     "name": "stdout",
     "text": [
      "Sorry, Try  again\n9\n"
     ]
    }
   ],
   "source": [
    "import random\n",
    "user_name = str(input(\"Enter your name : \"))\n",
    "user_input = int(input(\"Enter an Interger : \"))\n",
    "x = random.randint(1,10)\n",
    "if (x==user_input):\n",
    "    print(\"You have guessed the correct number\")\n",
    "    print(x)\n",
    "else:\n",
    "    print(\"Sorry, Try  again\")\n",
    "    print(x)\n"
   ]
  },
  {
   "cell_type": "code",
   "execution_count": 4,
   "metadata": {},
   "outputs": [
    {
     "output_type": "stream",
     "name": "stdout",
     "text": [
      "What did one volcano say to the other? I lava you.\nHave a good day\n"
     ]
    }
   ],
   "source": [
    "x=int(input(\"Enter the number between 1 to 100\"))\n",
    "\n",
    "if x in range(1,24):\n",
    "    print(\"Why did the kid bring a ladder to school? Because she wanted to go to high school.\")\n",
    "elif x in range(25,50):\n",
    "    print(\"What is a computer’s favorite snack? Computer chips.\")\n",
    "elif x in range(51,75):\n",
    "    print(\"What did one volcano say to the other? I lava you.\")\n",
    "else:\n",
    "    print(\"22. How do we know that the ocean is friendly? It waves.\")\n",
    "print(\"Have a good day\")"
   ]
  },
  {
   "cell_type": "code",
   "execution_count": null,
   "metadata": {},
   "outputs": [],
   "source": [
    "mc=str(input(\"Maincourse :\"))\n",
    "strt=str(input(\"Starter :\"))\n",
    "dess=str(input(\"Dessert :\"))\n",
    "drk=str(input(\"Drinks :\"))\n",
    "print(\"Your favourite meal is\", strt,mc,dess,\"with the glass of\",drk)\n",
    "print(\"Have a good day\")\n"
   ]
  },
  {
   "cell_type": "code",
   "execution_count": 16,
   "metadata": {},
   "outputs": [
    {
     "output_type": "stream",
     "name": "stdout",
     "text": [
      "In 2021 Asset value is 2000 & depreciation is 10%\nIn 2022 Asset value is & 1800 depreciation is 200\nIn 2023 Asset value is & 1620 depreciation is 180\nIn 2024 Asset value is & 1458 depreciation is 162\nIn 2025 Asset value is & 1312 depreciation is 145\nIn 2026 Asset value is & 1180 depreciation is 131\nIn 2027 Asset value is & 1062 depreciation is 118\n"
     ]
    }
   ],
   "source": [
    "price=2000\n",
    "percent=10/100\n",
    "year=2021\n",
    "print(\"In 2021 Asset value is 2000 & depreciation is 10%\")\n",
    "n=1\n",
    "i=0\n",
    "while i < 10:\n",
    "    DPVALUE = price * percent\n",
    "    #print(DPVALUE,price)\n",
    "    DPPRICE = price - DPVALUE\n",
    "    #print(DPPRICE)\n",
    "    price = DPPRICE\n",
    "    #print(price)\n",
    "    n += 1\n",
    "    i += 1\n",
    "    year=year+1\n",
    "    if(price >= 1000):\n",
    "     exit\n",
    "     print( \"In\", year, \"Asset value is\",\"&\", int(DPPRICE), \"depreciation is\", int(DPVALUE))"
   ]
  },
  {
   "cell_type": "code",
   "execution_count": 1,
   "metadata": {},
   "outputs": [
    {
     "output_type": "stream",
     "name": "stdout",
     "text": [
      "Enter a for addition\n",
      "Enter b for subtraction\n",
      "Enter c for Multiplication\n",
      "Enter d for Division\n",
      "Enter e for Modulo\n",
      "Enter f for Root of\n",
      "Power to 4\n",
      "your choice is f\n"
     ]
    }
   ],
   "source": [
    "import math\n",
    "\n",
    "x = int(input(\"Enter the 1st integer value \"))\n",
    "y = int(input(\"Enter the 2nd integer value \"))\n",
    "\n",
    "print(\"Enter a for addition\")\n",
    "print(\"Enter b for subtraction\")\n",
    "print(\"Enter c for Multiplication\")\n",
    "print(\"Enter d for Division\")\n",
    "print(\"Enter e for Modulo\")\n",
    "print(\"Enter f for Root of\")\n",
    "\n",
    "z= str(input(\"Enter the choice :\"))\n",
    "\n",
    "if z==\"a\":\n",
    " print(\"Addition\", x+y)\n",
    "elif z==\"b\":\n",
    " print(\"Subtraction\", x-y) \n",
    "elif z==\"c\":\n",
    " print(\"Multiplication\", x*y)\n",
    "elif z==\"d\":\n",
    " print(\"Division\", x/y)\n",
    "elif z==\"e\":\n",
    " print(\"Modulo\", x//y)\n",
    "elif z==\"f\":\n",
    " print(\"Power to\", x**y)\n",
    "else:\n",
    " print(\"Try again\")\n",
    "print(\"your choice is\", z)\n"
   ]
  },
  {
   "cell_type": "code",
   "execution_count": null,
   "metadata": {},
   "outputs": [],
   "source": []
  }
 ]
}