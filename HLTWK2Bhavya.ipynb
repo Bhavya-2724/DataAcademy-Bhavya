{
 "metadata": {
  "language_info": {
   "codemirror_mode": {
    "name": "ipython",
    "version": 3
   },
   "file_extension": ".py",
   "mimetype": "text/x-python",
   "name": "python",
   "nbconvert_exporter": "python",
   "pygments_lexer": "ipython3",
   "version": "3.8.5"
  },
  "orig_nbformat": 2,
  "kernelspec": {
   "name": "python385jvsc74a57bd04e984aced74bf9041d3ce58b9b34d9d109f01609c42f4542f7459e385b043439",
   "display_name": "Python 3.8.5 64-bit (conda)"
  }
 },
 "nbformat": 4,
 "nbformat_minor": 2,
 "cells": [
  {
   "cell_type": "code",
   "execution_count": null,
   "metadata": {},
   "outputs": [],
   "source": [
    "x = int(input(\"Enter an integer value : \"))\n",
    "y = int(input(\"Enter another integer value : \"))\n",
    "print(\" 1--> Addition\\n 2--> Subtraction \\n 3--> Multiplication\\n 4--> Division\")\n",
    "z = int(input(\"Enter your choice of operation : \"))\n",
    "choice(z)"
   ]
  },
  {
   "cell_type": "code",
   "execution_count": null,
   "metadata": {},
   "outputs": [],
   "source": [
    "import math\n",
    "def choice(z1):\n",
    "  l1 = z1\n",
    "  if (l1 == 1):\n",
    "   print(\"Addition of \",x,\"and\",y,\"is\", x+y)\n",
    "  elif (l1 == 2):\n",
    "   print(\"Subration of \",x,\"and\",y,\"is\", x-y)\n",
    "  elif (l1 == 3):\n",
    "   print(\"Multiplication of \",x,\"and\",y,\"is\", x*y)\n",
    "  elif (l1 == 4):\n",
    "   print(\"Division of \",x,\"and\",y,\"is\", x/y)\n",
    "  else:\n",
    "    print(\"Wrong choice\")\n",
    "  us_er_choice()"
   ]
  },
  {
   "cell_type": "code",
   "execution_count": null,
   "metadata": {},
   "outputs": [],
   "source": [
    "def u_choice1():\n",
    " x1 = int(input(\"Enter an integer value : \"))\n",
    " y2 = int(input(\"Enter another integer value : \"))\n",
    " print(\" 1 --> Addition\\n 2--> Subtraction \\n 3--> Multiplication\\n 4--> Division\")\n",
    " z2 = int(input(\"Enter your choice of operation : \"))\n",
    " choice(z2)"
   ]
  },
  {
   "cell_type": "code",
   "execution_count": null,
   "metadata": {},
   "outputs": [],
   "source": [
    "def us_er_choice():\n",
    " ch = int(input(\"Press 1 if you want to continue : \"))\n",
    " if ch == 1:\n",
    "    u_choice1()\n",
    " else:\n",
    "    print(\"Thank you\")"
   ]
  },
  {
   "cell_type": "code",
   "execution_count": null,
   "metadata": {},
   "outputs": [],
   "source": [
    "### Task 3"
   ]
  },
  {
   "cell_type": "code",
   "execution_count": 68,
   "metadata": {},
   "outputs": [
    {
     "output_type": "stream",
     "name": "stdout",
     "text": [
      "Original Value :  5000 Depreciation % :  0.5 Purchased year :  2021\n",
      "Yearly Depreciation value :  2500 Monthly depreciated Value :  2500 Depreciated year :  2022\n",
      "Yearly Depreciation value :  1250 Monthly depreciated Value :  1250 Depreciated year :  2023\n",
      "Thank you\n"
     ]
    }
   ],
   "source": [
    "MB = int(input(\"Enter the cost of the vehicle : \"))\n",
    "Dep = float(input(\"Enter the interest : \"))\n",
    "year1 = int(input(\"Enter the year of purchase : \"))\n",
    "print(\"Original Value : \", MB, \"Depreciation % : \", Dep, \"Purchased year : \", year1)\n",
    "name_funct(MB, Dep, year1)\n",
    "\n"
   ]
  },
  {
   "cell_type": "code",
   "execution_count": 66,
   "metadata": {},
   "outputs": [],
   "source": [
    "def name_funct(inp_MB,inp_Dep,inp_year):\n",
    "  Motor_bike = inp_MB \n",
    "  Depreciation = inp_Dep\n",
    "  year = inp_year\n",
    "  while Motor_bike>1000:\n",
    "   Dep_Cal = Motor_bike - (Motor_bike*(Depreciation))\n",
    "   Monthly_Dep = Motor_bike - Dep_Cal\n",
    "   Motor_bike = Dep_Cal\n",
    "   year=year+1 \n",
    "   if(Motor_bike>1000):\n",
    "    \n",
    "    print(\"Yearly Depreciation value : \", round(Dep_Cal),\"Monthly depreciated Value : \", round(Monthly_Dep), \"Depreciated year : \", year)\n",
    "  user_choice()\n",
    "    "
   ]
  },
  {
   "cell_type": "code",
   "execution_count": 64,
   "metadata": {},
   "outputs": [],
   "source": [
    "def motor():\n",
    " MB1 = int(input(\"Enter the cost of the vehicle : \"))\n",
    " Dep1 = float(input(\"Enter the interest : \"))\n",
    " year2 = int(input(\"Enter the year of purchase : \"))\n",
    " print(\"Original Value : \", MB1, \"Depreciation % : \", Dep1, \"Purchased year : \", year2)\n",
    " name_funct(MB1, Dep1, year2)\n",
    " "
   ]
  },
  {
   "cell_type": "code",
   "execution_count": 67,
   "metadata": {},
   "outputs": [],
   "source": [
    "def user_choice():\n",
    "    choice = int(input(\"Press 1 if u want to continue, else press 2\"))\n",
    "    if choice == 1:\n",
    "      motor()\n",
    "    else:\n",
    "        print(\"Thank you\")\n"
   ]
  },
  {
   "cell_type": "code",
   "execution_count": null,
   "metadata": {},
   "outputs": [],
   "source": []
  }
 ]
}