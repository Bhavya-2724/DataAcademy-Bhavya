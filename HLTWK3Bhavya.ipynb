{
 "metadata": {
  "language_info": {
   "codemirror_mode": {
    "name": "ipython",
    "version": 3
   },
   "file_extension": ".py",
   "mimetype": "text/x-python",
   "name": "python",
   "nbconvert_exporter": "python",
   "pygments_lexer": "ipython3",
   "version": "3.8.5"
  },
  "orig_nbformat": 2,
  "kernelspec": {
   "name": "python385jvsc74a57bd04e984aced74bf9041d3ce58b9b34d9d109f01609c42f4542f7459e385b043439",
   "display_name": "Python 3.8.5 64-bit ('base': conda)"
  }
 },
 "nbformat": 4,
 "nbformat_minor": 2,
 "cells": [
  {
   "source": [
    "import numpy as np "
   ],
   "cell_type": "code",
   "metadata": {},
   "execution_count": 2,
   "outputs": []
  },
  {
   "source": [
    "### Task 1 - 1D array of numbers from 0 to 9"
   ],
   "cell_type": "markdown",
   "metadata": {}
  },
  {
   "cell_type": "code",
   "execution_count": 4,
   "metadata": {},
   "outputs": [
    {
     "output_type": "execute_result",
     "data": {
      "text/plain": [
       "array([0, 1, 2, 3, 4, 5, 6, 7, 8, 9])"
      ]
     },
     "metadata": {},
     "execution_count": 4
    }
   ],
   "source": [
    "array = np.array([0, 1, 2, 3, 4, 5, 6, 7, 8, 9])\n",
    "array\n",
    "#print(array)"
   ]
  },
  {
   "source": [
    "### Task 2 - 3×3 NumPy array of all Boolean value Trues"
   ],
   "cell_type": "markdown",
   "metadata": {}
  },
  {
   "source": [
    "array1 = np.full((3,3),True,dtype=bool, order='F')\n",
    "print(array1)"
   ],
   "cell_type": "code",
   "metadata": {},
   "execution_count": null,
   "outputs": []
  },
  {
   "source": [
    "### Task 3 - Extract all odd numbers from array of 1-10"
   ],
   "cell_type": "markdown",
   "metadata": {}
  },
  {
   "cell_type": "code",
   "execution_count": null,
   "metadata": {},
   "outputs": [],
   "source": [
    "a = np.array([1,2,3,4,5,6,7,8,9])\n",
    "a[a % 2 == 1]\n"
   ]
  },
  {
   "source": [
    "### Task 4 - Replace all odd numbers in an array of 1-10 with the value -1"
   ],
   "cell_type": "markdown",
   "metadata": {}
  },
  {
   "cell_type": "code",
   "execution_count": 13,
   "metadata": {},
   "outputs": [
    {
     "output_type": "stream",
     "name": "stdout",
     "text": [
      "Before\n[[ 0  1  2  3]\n [ 4  5  6  7]\n [ 8  9 10 11]\n [12 13 14 15]]\n\nAfter\n[[ 0 -1  2 -1]\n [ 4 -1  6 -1]\n [ 8 -1 10 -1]\n [12 -1 14 -1]]\n"
     ]
    }
   ],
   "source": [
    "A = np.arange(16)\n",
    "Z = A.reshape(4,4)\n",
    "print(\"Before\")\n",
    "print(Z)\n",
    "print(\"\\nAfter\")\n",
    "Z[Z%2 == 1] = -1\n",
    "print(Z)"
   ]
  },
  {
   "source": [
    "### Task 5 - Convert a 1D array to a 2D array with 2 rows"
   ],
   "cell_type": "markdown",
   "metadata": {}
  },
  {
   "cell_type": "code",
   "execution_count": 12,
   "metadata": {},
   "outputs": [
    {
     "output_type": "stream",
     "name": "stdout",
     "text": [
      "Before\n[1 2 3 4]\n\nAfter\n[[1 2]\n [3 4]]\n"
     ]
    }
   ],
   "source": [
    "array1 = np.array([1,2,3,4])\n",
    "print(\"Before\")\n",
    "print(array1)\n",
    "arrayNew = array1.reshape(2,2)\n",
    "print(\"\\nAfter\")\n",
    "print(arrayNew)"
   ]
  },
  {
   "source": [
    "### Task 6 - Create two arrays a and b, stack these two arrays vertically use the np.dot and \n",
    "np.sum to calculate total"
   ],
   "cell_type": "markdown",
   "metadata": {}
  },
  {
   "cell_type": "code",
   "execution_count": 14,
   "metadata": {},
   "outputs": [
    {
     "output_type": "stream",
     "name": "stdout",
     "text": [
      "[[ 90  96 102]\n [216 231 246]\n [342 366 390]]\n\n\n2079\n"
     ]
    }
   ],
   "source": [
    "a = np.arange(1,10).reshape(3,3)\n",
    "b = np.arange(11,20).reshape(3,3)\n",
    "c = np.dot(a, b)\n",
    "d = np.sum(c)\n",
    "#print(a)\n",
    "#print(b)\n",
    "print(c)\n",
    "print('\\n')\n",
    "print(d)"
   ]
  },
  {
   "source": [
    "### Task 7 - Create the following pattern array([1,1,1,2,2,2,3,3,3,1,2,3,1,2,3,1,2,3])"
   ],
   "cell_type": "markdown",
   "metadata": {}
  },
  {
   "cell_type": "code",
   "execution_count": 27,
   "metadata": {},
   "outputs": [
    {
     "output_type": "stream",
     "name": "stdout",
     "text": [
      "[1 1 1 2 2 2 3 3 3 1 2 3 1 2 3 1 2 3]\n"
     ]
    }
   ],
   "source": [
    "arr=np.array([1,1,1,2,2,2,3,3,3,1,2,3,1,2,3,1,2,3])\n",
    "print(arr)\n"
   ]
  },
  {
   "source": [
    "### Task 8 - In two arrays a ( 1,2,3,4,5) and b ( 4,5,6,7,8,9) – remove all repeating items present in arrays "
   ],
   "cell_type": "markdown",
   "metadata": {}
  },
  {
   "cell_type": "code",
   "execution_count": 23,
   "metadata": {},
   "outputs": [
    {
     "output_type": "stream",
     "name": "stdout",
     "text": [
      "[1 2 3 4 5] [4 5 6 7 8 9]\n"
     ]
    },
    {
     "output_type": "execute_result",
     "data": {
      "text/plain": [
       "array([1, 2, 3, 4, 5, 6, 7, 8, 9])"
      ]
     },
     "metadata": {},
     "execution_count": 23
    }
   ],
   "source": [
    "arr=np.array((1,2,3,4,5))\n",
    "arr1=np.array((4,5,6,7,8,9))\n",
    "print(arr,arr1)\n",
    "new_array= np.concatenate((arr,arr1),axis=0)\n",
    "np.unique(new_array)\n"
   ]
  },
  {
   "source": [
    "### Task 9 - Get all items between 3 and 7 from a and b and sum themtogether"
   ],
   "cell_type": "markdown",
   "metadata": {}
  },
  {
   "cell_type": "code",
   "execution_count": 38,
   "metadata": {},
   "outputs": [
    {
     "output_type": "stream",
     "name": "stdout",
     "text": [
      "[1 2 3 4 5] [4 5 6 7 8 9]\n\n [1 2 3 4 5 6 7 8 9] \n [4 5] \n 9\n"
     ]
    }
   ],
   "source": [
    "arr=np.array((1,2,3,4,5))\n",
    "arr1=np.array((4,5,6,7,8,9))\n",
    "print(arr,arr1)\n",
    "new_array= np.concatenate((arr,arr1),axis=0)\n",
    "arr2=np.unique(new_array)\n",
    "arr3=arr[3:7]\n",
    "arr4=np.sum(arr3)\n",
    "print(\"\\n\",arr2,\"\\n\",arr3,\"\\n\",arr4)\n"
   ]
  },
  {
   "cell_type": "code",
   "execution_count": null,
   "metadata": {},
   "outputs": [],
   "source": []
  }
 ]
}